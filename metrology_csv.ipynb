{
 "cells": [
  {
   "cell_type": "code",
   "execution_count": 1,
   "metadata": {},
   "outputs": [],
   "source": [
    "import glob\n",
    "import pandas as pd\n",
    "import csv\n",
    "import os\n",
    "import numpy as np\n",
    "import matplotlib.pyplot as plt"
   ]
  },
  {
   "cell_type": "code",
   "execution_count": 4,
   "metadata": {},
   "outputs": [
    {
     "name": "stdout",
     "output_type": "stream",
     "text": [
      "Enter ID of Right Cold Plate: d\n"
     ]
    }
   ],
   "source": [
    "directory = 'C:\\ALICE Upgrade\\ITSUsoftwareCMM\\Stave\\Marker Positions'\n",
    "cp = raw_input('Enter ID of Right Cold Plate: ')\n",
    "#for f in os.listdir(directory):\n",
    "    #if cp in f and f.endswith('.csv'):\n",
    "        #path = os.path.abspath(directory + f)\n",
    "path = os.path.abspath(\"STAVE_MARKERPOS_2018_2_12_B-ML-Stave-0_B-HS-R-0_ALC-0312-00_026_B-HS-L-0_ALC-0312-00_120.csv\")"
   ]
  },
  {
   "cell_type": "code",
   "execution_count": 5,
   "metadata": {},
   "outputs": [],
   "source": [
    "path1 = glob.glob(path)[0]"
   ]
  },
  {
   "cell_type": "code",
   "execution_count": 7,
   "metadata": {},
   "outputs": [],
   "source": [
    "data = pd.read_csv(open(path), header = None, usecols = [2, 4, 5, 6])"
   ]
  },
  {
   "cell_type": "code",
   "execution_count": 9,
   "metadata": {},
   "outputs": [
    {
     "data": {
      "text/plain": [
       "'\\nx = pd.DataFrame.get(data, 4)\\ny = pd.DataFrame.get(data, 5)\\nz = pd.DataFrame.get(data, 6)\\n'"
      ]
     },
     "execution_count": 9,
     "metadata": {},
     "output_type": "execute_result"
    }
   ],
   "source": [
    "label = pd.DataFrame.get(data, 2)\n",
    "\"\"\"\n",
    "x = pd.DataFrame.get(data, 4)\n",
    "y = pd.DataFrame.get(data, 5)\n",
    "z = pd.DataFrame.get(data, 6)\n",
    "\"\"\""
   ]
  },
  {
   "cell_type": "code",
   "execution_count": 10,
   "metadata": {},
   "outputs": [],
   "source": [
    "slices = data.index[label == u'MarkerCenter '].tolist()\n",
    "one, two, three, four = slices[0], slices[1], slices[2], slices[3]\n",
    "five, six, seven, eight = slices[4], slices[5], slices[6], slices[7]"
   ]
  },
  {
   "cell_type": "code",
   "execution_count": 33,
   "metadata": {},
   "outputs": [],
   "source": [
    "mod1, mod2, mod3, mod4 = data[one+1:two-4], data[two+1:three-4], data[three+1:four-4], data[four+1:five-4]\n",
    "mod5, mod6, mod7, mod8 = data[five+1:six-4], data[six+1:seven-4], data[seven+1:eight-4], data[eight+1:-4]\n",
    "hs_low = [mod1, mod2, mod3, mod4]\n",
    "hs_up = [mod5, mod6, mod7, mod8]\n",
    "low = pd.concat([mod1, mod2, mod3, mod4])[[4, 5, 6]]\n",
    "up = pd.concat([mod5, mod6, mod7, mod8])[[4, 5, 6]]"
   ]
  },
  {
   "cell_type": "code",
   "execution_count": 12,
   "metadata": {},
   "outputs": [],
   "source": [
    "# z residuals\n",
    "low_dz_pos = (low[low[4] > 0][6] - 13.3)*1000\n",
    "low_dz_pos_y = low[low[4] > 0][5]\n",
    "low_dz_neg = (low[low[4] < 0][6] - 13.3)*1000\n",
    "low_dz_neg_y = low[low[4] < 0][5]\n",
    "up_dz = (up[6] - 9.7)*1000\n",
    "up_dz_y = up[5]"
   ]
  },
  {
   "cell_type": "code",
   "execution_count": 13,
   "metadata": {},
   "outputs": [
    {
     "data": {
      "image/png": "[encoded data removed]",
      "text/plain": [
       "<matplotlib.figure.Figure at 0x1069a0cd0>"
      ]
     },
     "metadata": {},
     "output_type": "display_data"
    }
   ],
   "source": [
    "# z plots\n",
    "dz, axes = plt.subplots(nrows=1, ncols=2, figsize = (15, 5))\n",
    "zlow, zup = axes.flatten()\n",
    "\n",
    "zlow.plot(low_dz_pos_y, low_dz_pos, 'r+', label = 'x = 2 mm')\n",
    "zlow.plot(low_dz_neg_y, low_dz_neg, 'b+', label = 'x = -28 mm')\n",
    "zlow.set(xlabel=\"y [mm]\")\n",
    "zlow.set(ylabel = \"$\\Delta$ z [$\\mu$m]\")\n",
    "zlow.set_title('Lower/Left')\n",
    "zlow.set_ylim([-150, 250])\n",
    "for i in [-422, -211, 0, 211, 422]:\n",
    "    zlow.axvline(x = i, ymin = .1, ymax = .7, c = 'k', linewidth = .4)\n",
    "zlow.legend(loc = 1)\n",
    "\n",
    "zup.plot(up_dz_y, up_dz, 'g+', label = 'x = 28 mm')\n",
    "zup.set(xlabel=\"y [mm]\")\n",
    "zup.set(ylabel = \"$\\Delta$ z [$\\mu$m]\")\n",
    "zup.set_title('Upper/Right')\n",
    "zup.set_ylim([-150, 250])\n",
    "for i in [-422, -211, 0, 211, 422]:\n",
    "    zup.axvline(x = i, ymin = .1, ymax = .7, c = 'k', linewidth = .4)\n",
    "zup.legend(loc = 1)\n",
    "    \n",
    "plt.show()"
   ]
  },
  {
   "cell_type": "code",
   "execution_count": 14,
   "metadata": {},
   "outputs": [],
   "source": [
    "# x residuals\n",
    "low_dx_pos = (low[low[4] > 0][4] - 2.099)*1000\n",
    "low_dx_pos_y = low[low[4] > 0][5]\n",
    "low_dx_neg = (low[low[4] < 0][4] + 27.899)*1000\n",
    "low_dx_neg_y = low[low[4] < 0][5]\n",
    "up_dx = (up[4] - 27.899)*1000\n",
    "up_dx_y = (up[5])"
   ]
  },
  {
   "cell_type": "code",
   "execution_count": 15,
   "metadata": {},
   "outputs": [
    {
     "data": {
      "image/png": "[encoded data removed]",
      "text/plain": [
       "<matplotlib.figure.Figure at 0x1099afc10>"
      ]
     },
     "metadata": {},
     "output_type": "display_data"
    }
   ],
   "source": [
    "# x plots\n",
    "plt.plot(low_dx_pos_y, low_dx_pos, 'r+', label = 'x = 2.099 mm')\n",
    "plt.plot(low_dx_neg_y, low_dx_neg, 'b+', label = 'x = -27.899 mm')\n",
    "plt.plot(up_dx_y, up_dx, 'g+', label = 'x = 27.899 mm')\n",
    "plt.xlabel(\"y [mm]\")\n",
    "plt.ylabel(\"$\\Delta$ x [$\\mu$m]\")\n",
    "plt.ylim([-400, 250])\n",
    "for i in [-422, -211, 0, 211, 422]:\n",
    "    plt.axvline(x = i, ymin = .1, ymax = .7, c = 'k', linewidth = .4)\n",
    "plt.legend(loc = 1)\n",
    "plt.title(\"$\\Delta$ x\")\n",
    "    \n",
    "plt.show()"
   ]
  },
  {
   "cell_type": "code",
   "execution_count": 16,
   "metadata": {},
   "outputs": [],
   "source": [
    "# y residuals\n",
    "m1 = [-421.925, -211.375] # markers [a, b] for module 1\n",
    "m2 = [-210.825, -0.275]\n",
    "m3 = [0.275, 210.825]\n",
    "m4 = [211.375, 421.925]\n",
    "\n",
    "markers = np.concatenate([m1, m2, m3, m4])\n",
    "Markers = np.array([m1, m2, m3, m4])"
   ]
  },
  {
   "cell_type": "code",
   "execution_count": 47,
   "metadata": {},
   "outputs": [],
   "source": [
    "X, Y, Z = 4, 5, 6\n",
    "\n",
    "def is_missing(element):\n",
    "    return len(element) == 0\n",
    "\n",
    "# replaces empty arrays resulting from points way out of tolerance with points outside the plot range\n",
    "def replace(element):\n",
    "    return (10000, 10000)\n",
    "\n",
    "def prepare(markers):\n",
    "    for n, i in enumerate(markers):\n",
    "        if is_missing(i):\n",
    "            markers[n] = replace(i)\n",
    "    return markers\n",
    "\n",
    "# low_or_up is either hs_low or hs_up\n",
    "def markers(low_or_up, module, tolerance):\n",
    "    number = module - 1\n",
    "    mod_num = low_or_up[number]\n",
    "    ad = mod_num[abs(mod_num[Y] - Markers[number][0]) < tolerance]\n",
    "    bc = mod_num[abs(mod_num[Y] - Markers[number][1]) < tolerance]\n",
    "    if low_or_up == hs_low:\n",
    "        a = ad[ad[X] > 0][Y]\n",
    "        d = ad[ad[X] < 0][Y]\n",
    "        b = bc[bc[X] > 0][Y]\n",
    "        c = bc[bc[X] < 0][Y]\n",
    "        markers = [a, d, b, c]\n",
    "    else:\n",
    "        a = ad[Y]\n",
    "        b = bc[Y]\n",
    "        markers = [a, b]\n",
    "    return prepare(markers)\n",
    "\n",
    "low_ADBC = [low_mark(i, 0.4) for i in range(1, 5)]\n",
    "up_AB = [up_mark(i, 0.8) for i in range(1, 5)]"
   ]
  },
  {
   "cell_type": "code",
   "execution_count": 51,
   "metadata": {},
   "outputs": [
    {
     "ename": "TypeError",
     "evalue": "list indices must be integers, not list",
     "output_type": "error",
     "traceback": [
      "\u001b[0;31m---------------------------------------------------------------------------\u001b[0m",
      "\u001b[0;31mTypeError\u001b[0m                                 Traceback (most recent call last)",
      "\u001b[0;32m<ipython-input-51-b00435c6d797>\u001b[0m in \u001b[0;36m<module>\u001b[0;34m()\u001b[0m\n\u001b[1;32m      1\u001b[0m \u001b[0ma_i\u001b[0m\u001b[0;34m,\u001b[0m \u001b[0mb_i\u001b[0m\u001b[0;34m,\u001b[0m \u001b[0mc_i\u001b[0m\u001b[0;34m,\u001b[0m \u001b[0md_i\u001b[0m \u001b[0;34m=\u001b[0m \u001b[0;36m0\u001b[0m\u001b[0;34m,\u001b[0m \u001b[0;36m2\u001b[0m\u001b[0;34m,\u001b[0m \u001b[0;36m3\u001b[0m\u001b[0;34m,\u001b[0m \u001b[0;36m1\u001b[0m\u001b[0;34m\u001b[0m\u001b[0m\n\u001b[0;32m----> 2\u001b[0;31m \u001b[0mlow_ab\u001b[0m \u001b[0;34m=\u001b[0m \u001b[0;34m[\u001b[0m\u001b[0mlow_ABCD\u001b[0m\u001b[0;34m[\u001b[0m\u001b[0mi\u001b[0m\u001b[0;34m]\u001b[0m\u001b[0;34m[\u001b[0m\u001b[0ma_i\u001b[0m\u001b[0;34m]\u001b[0m \u001b[0;32mfor\u001b[0m \u001b[0mi\u001b[0m \u001b[0;32min\u001b[0m \u001b[0mlow_ABCD\u001b[0m\u001b[0;34m]\u001b[0m\u001b[0;34m\u001b[0m\u001b[0m\n\u001b[0m\u001b[1;32m      3\u001b[0m \u001b[0;31m# select A, B in low_ABCD\u001b[0m\u001b[0;34m\u001b[0m\u001b[0;34m\u001b[0m\u001b[0m\n\u001b[1;32m      4\u001b[0m \u001b[0mlow_ab\u001b[0m\u001b[0;34m\u001b[0m\u001b[0m\n",
      "\u001b[0;31mTypeError\u001b[0m: list indices must be integers, not list"
     ]
    }
   ],
   "source": [
    "a_i, b_i, c_i, d_i = 0, 2, 3, 1\n",
    "#low_ab = [low_ABCD[i][a_i], low_ABCD[i][b_i] for i in low_ABCD]\n",
    "# select A, B in low_ABCD\n",
    "low_ADBC"
   ]
  },
  {
   "cell_type": "code",
   "execution_count": 49,
   "metadata": {},
   "outputs": [
    {
     "data": {
      "text/plain": [
       "[[130   -421.27\n",
       "  Name: 5, dtype: float64, 133   -210.72\n",
       "  Name: 5, dtype: float64], [139   -210.18\n",
       "  Name: 5, dtype: float64, 146    0.37\n",
       "  Name: 5, dtype: float64], [152    0.88\n",
       "  Name: 5, dtype: float64, 161    211.43\n",
       "  Name: 5, dtype: float64], [167    211.98\n",
       "  Name: 5, dtype: float64, 176    422.53\n",
       "  Name: 5, dtype: float64]]"
      ]
     },
     "execution_count": 49,
     "metadata": {},
     "output_type": "execute_result"
    }
   ],
   "source": [
    "up_AB"
   ]
  },
  {
   "cell_type": "code",
   "execution_count": 24,
   "metadata": {},
   "outputs": [
    {
     "ename": "NameError",
     "evalue": "name 'ones_a' is not defined",
     "output_type": "error",
     "traceback": [
      "\u001b[0;31m---------------------------------------------------------------------------\u001b[0m",
      "\u001b[0;31mNameError\u001b[0m                                 Traceback (most recent call last)",
      "\u001b[0;32m<ipython-input-24-2f7efd55f84f>\u001b[0m in \u001b[0;36m<module>\u001b[0;34m()\u001b[0m\n\u001b[0;32m----> 1\u001b[0;31m \u001b[0mlow_ab\u001b[0m \u001b[0;34m=\u001b[0m \u001b[0mnp\u001b[0m\u001b[0;34m.\u001b[0m\u001b[0marray\u001b[0m\u001b[0;34m(\u001b[0m\u001b[0;34m[\u001b[0m\u001b[0mfloat\u001b[0m\u001b[0;34m(\u001b[0m\u001b[0mi\u001b[0m\u001b[0;34m)\u001b[0m \u001b[0;32mfor\u001b[0m \u001b[0mi\u001b[0m \u001b[0;32min\u001b[0m \u001b[0;34m[\u001b[0m\u001b[0mones_a\u001b[0m\u001b[0;34m,\u001b[0m \u001b[0mOnes_b\u001b[0m\u001b[0;34m,\u001b[0m \u001b[0mtwos_a\u001b[0m\u001b[0;34m,\u001b[0m \u001b[0mTwos_b\u001b[0m\u001b[0;34m,\u001b[0m \u001b[0mthrees_a\u001b[0m\u001b[0;34m,\u001b[0m \u001b[0mThrees_b\u001b[0m\u001b[0;34m,\u001b[0m \u001b[0mfours_a\u001b[0m\u001b[0;34m,\u001b[0m \u001b[0mFours_b\u001b[0m\u001b[0;34m]\u001b[0m\u001b[0;34m]\u001b[0m\u001b[0;34m)\u001b[0m\u001b[0;34m\u001b[0m\u001b[0m\n\u001b[0m\u001b[1;32m      2\u001b[0m \u001b[0mlow_dc\u001b[0m \u001b[0;34m=\u001b[0m \u001b[0mnp\u001b[0m\u001b[0;34m.\u001b[0m\u001b[0marray\u001b[0m\u001b[0;34m(\u001b[0m\u001b[0;34m[\u001b[0m\u001b[0mfloat\u001b[0m\u001b[0;34m(\u001b[0m\u001b[0mi\u001b[0m\u001b[0;34m)\u001b[0m \u001b[0;32mfor\u001b[0m \u001b[0mi\u001b[0m \u001b[0;32min\u001b[0m \u001b[0;34m[\u001b[0m\u001b[0mones_d\u001b[0m\u001b[0;34m,\u001b[0m \u001b[0mOnes_c\u001b[0m\u001b[0;34m,\u001b[0m \u001b[0mtwos_d\u001b[0m\u001b[0;34m,\u001b[0m \u001b[0mTwos_c\u001b[0m\u001b[0;34m,\u001b[0m \u001b[0mthrees_d\u001b[0m\u001b[0;34m,\u001b[0m \u001b[0mThrees_c\u001b[0m\u001b[0;34m,\u001b[0m \u001b[0mfours_d\u001b[0m\u001b[0;34m,\u001b[0m \u001b[0mFours_c\u001b[0m\u001b[0;34m]\u001b[0m\u001b[0;34m]\u001b[0m\u001b[0;34m)\u001b[0m\u001b[0;34m\u001b[0m\u001b[0m\n\u001b[1;32m      3\u001b[0m \u001b[0mup_ab\u001b[0m \u001b[0;34m=\u001b[0m \u001b[0mnp\u001b[0m\u001b[0;34m.\u001b[0m\u001b[0marray\u001b[0m\u001b[0;34m(\u001b[0m\u001b[0;34m[\u001b[0m\u001b[0mfloat\u001b[0m\u001b[0;34m(\u001b[0m\u001b[0mi\u001b[0m\u001b[0;34m)\u001b[0m \u001b[0;32mfor\u001b[0m \u001b[0mi\u001b[0m \u001b[0;32min\u001b[0m \u001b[0;34m[\u001b[0m\u001b[0mfive_a\u001b[0m\u001b[0;34m,\u001b[0m \u001b[0mfive_b\u001b[0m\u001b[0;34m,\u001b[0m \u001b[0msix_a\u001b[0m\u001b[0;34m,\u001b[0m \u001b[0msix_b\u001b[0m\u001b[0;34m,\u001b[0m \u001b[0mseven_a\u001b[0m\u001b[0;34m,\u001b[0m \u001b[0mseven_b\u001b[0m\u001b[0;34m,\u001b[0m \u001b[0meight_a\u001b[0m\u001b[0;34m,\u001b[0m \u001b[0meight_b\u001b[0m\u001b[0;34m]\u001b[0m\u001b[0;34m]\u001b[0m\u001b[0;34m)\u001b[0m\u001b[0;34m\u001b[0m\u001b[0m\n",
      "\u001b[0;31mNameError\u001b[0m: name 'ones_a' is not defined"
     ]
    }
   ],
   "source": [
    "#low_ab = np.array([float(i) for i in [ones_a, Ones_b, twos_a, Twos_b, threes_a, Threes_b, fours_a, Fours_b]])\n",
    "#low_dc = np.array([float(i) for i in [ones_d, Ones_c, twos_d, Twos_c, threes_d, Threes_c, fours_d, Fours_c]])\n",
    "#up_ab = np.array([float(i) for i in [five_a, five_b, six_a, six_b, seven_a, seven_b, eight_a, eight_b]])"
   ]
  },
  {
   "cell_type": "code",
   "execution_count": 196,
   "metadata": {},
   "outputs": [
    {
     "ename": "KeyError",
     "evalue": "0",
     "output_type": "error",
     "traceback": [
      "\u001b[0;31m---------------------------------------------------------------------------\u001b[0m",
      "\u001b[0;31mKeyError\u001b[0m                                  Traceback (most recent call last)",
      "\u001b[0;32m<ipython-input-196-852fe58faffb>\u001b[0m in \u001b[0;36m<module>\u001b[0;34m()\u001b[0m\n\u001b[0;32m----> 1\u001b[0;31m \u001b[0mplt\u001b[0m\u001b[0;34m.\u001b[0m\u001b[0mplot\u001b[0m\u001b[0;34m(\u001b[0m\u001b[0mmarkers\u001b[0m\u001b[0;34m,\u001b[0m \u001b[0;34m(\u001b[0m\u001b[0mlowAB\u001b[0m \u001b[0;34m-\u001b[0m \u001b[0mmarkers\u001b[0m\u001b[0;34m)\u001b[0m\u001b[0;34m*\u001b[0m\u001b[0;36m1000\u001b[0m\u001b[0;34m,\u001b[0m \u001b[0;34m'r+'\u001b[0m\u001b[0;34m,\u001b[0m \u001b[0mlabel\u001b[0m \u001b[0;34m=\u001b[0m \u001b[0;34m\"x = 2.099 mm\"\u001b[0m\u001b[0;34m)\u001b[0m\u001b[0;34m\u001b[0m\u001b[0m\n\u001b[0m\u001b[1;32m      2\u001b[0m \u001b[0mplt\u001b[0m\u001b[0;34m.\u001b[0m\u001b[0mplot\u001b[0m\u001b[0;34m(\u001b[0m\u001b[0mmarkers\u001b[0m\u001b[0;34m,\u001b[0m \u001b[0;34m(\u001b[0m\u001b[0mlow_dc\u001b[0m \u001b[0;34m-\u001b[0m \u001b[0mmarkers\u001b[0m\u001b[0;34m)\u001b[0m\u001b[0;34m*\u001b[0m\u001b[0;36m1000\u001b[0m\u001b[0;34m,\u001b[0m \u001b[0;34m'b+'\u001b[0m\u001b[0;34m,\u001b[0m \u001b[0mlabel\u001b[0m \u001b[0;34m=\u001b[0m \u001b[0;34m\"x = -27.899 mm\"\u001b[0m\u001b[0;34m)\u001b[0m\u001b[0;34m\u001b[0m\u001b[0m\n\u001b[1;32m      3\u001b[0m \u001b[0mplt\u001b[0m\u001b[0;34m.\u001b[0m\u001b[0mplot\u001b[0m\u001b[0;34m(\u001b[0m\u001b[0mmarkers\u001b[0m\u001b[0;34m,\u001b[0m \u001b[0;34m(\u001b[0m\u001b[0mup_ab\u001b[0m \u001b[0;34m-\u001b[0m \u001b[0mmarkers\u001b[0m\u001b[0;34m)\u001b[0m\u001b[0;34m*\u001b[0m\u001b[0;36m1000\u001b[0m\u001b[0;34m,\u001b[0m \u001b[0;34m'g+'\u001b[0m\u001b[0;34m,\u001b[0m \u001b[0mlabel\u001b[0m \u001b[0;34m=\u001b[0m \u001b[0;34m\"x = 27.899 mm\"\u001b[0m\u001b[0;34m)\u001b[0m\u001b[0;34m\u001b[0m\u001b[0m\n\u001b[1;32m      4\u001b[0m \u001b[0;32mfor\u001b[0m \u001b[0mi\u001b[0m \u001b[0;32min\u001b[0m \u001b[0;34m[\u001b[0m\u001b[0;34m-\u001b[0m\u001b[0;36m422\u001b[0m\u001b[0;34m,\u001b[0m \u001b[0;34m-\u001b[0m\u001b[0;36m211\u001b[0m\u001b[0;34m,\u001b[0m \u001b[0;36m0\u001b[0m\u001b[0;34m,\u001b[0m \u001b[0;36m211\u001b[0m\u001b[0;34m,\u001b[0m \u001b[0;36m422\u001b[0m\u001b[0;34m]\u001b[0m\u001b[0;34m:\u001b[0m\u001b[0;34m\u001b[0m\u001b[0m\n\u001b[1;32m      5\u001b[0m     \u001b[0mplt\u001b[0m\u001b[0;34m.\u001b[0m\u001b[0maxvline\u001b[0m\u001b[0;34m(\u001b[0m\u001b[0mx\u001b[0m \u001b[0;34m=\u001b[0m \u001b[0mi\u001b[0m\u001b[0;34m,\u001b[0m \u001b[0mymin\u001b[0m \u001b[0;34m=\u001b[0m \u001b[0;36m0\u001b[0m\u001b[0;34m,\u001b[0m \u001b[0mymax\u001b[0m \u001b[0;34m=\u001b[0m \u001b[0;36m1\u001b[0m\u001b[0;34m,\u001b[0m \u001b[0mc\u001b[0m \u001b[0;34m=\u001b[0m \u001b[0;34m'k'\u001b[0m\u001b[0;34m,\u001b[0m \u001b[0mlinewidth\u001b[0m \u001b[0;34m=\u001b[0m \u001b[0;36m.4\u001b[0m\u001b[0;34m)\u001b[0m\u001b[0;34m\u001b[0m\u001b[0m\n",
      "\u001b[0;32m/Users/ericazhang/homebrew/lib/python2.7/site-packages/pandas/core/series.pyc\u001b[0m in \u001b[0;36m__getitem__\u001b[0;34m(self, key)\u001b[0m\n\u001b[1;32m    621\u001b[0m         \u001b[0mkey\u001b[0m \u001b[0;34m=\u001b[0m \u001b[0mcom\u001b[0m\u001b[0;34m.\u001b[0m\u001b[0m_apply_if_callable\u001b[0m\u001b[0;34m(\u001b[0m\u001b[0mkey\u001b[0m\u001b[0;34m,\u001b[0m \u001b[0mself\u001b[0m\u001b[0;34m)\u001b[0m\u001b[0;34m\u001b[0m\u001b[0m\n\u001b[1;32m    622\u001b[0m         \u001b[0;32mtry\u001b[0m\u001b[0;34m:\u001b[0m\u001b[0;34m\u001b[0m\u001b[0m\n\u001b[0;32m--> 623\u001b[0;31m             \u001b[0mresult\u001b[0m \u001b[0;34m=\u001b[0m \u001b[0mself\u001b[0m\u001b[0;34m.\u001b[0m\u001b[0mindex\u001b[0m\u001b[0;34m.\u001b[0m\u001b[0mget_value\u001b[0m\u001b[0;34m(\u001b[0m\u001b[0mself\u001b[0m\u001b[0;34m,\u001b[0m \u001b[0mkey\u001b[0m\u001b[0;34m)\u001b[0m\u001b[0;34m\u001b[0m\u001b[0m\n\u001b[0m\u001b[1;32m    624\u001b[0m \u001b[0;34m\u001b[0m\u001b[0m\n\u001b[1;32m    625\u001b[0m             \u001b[0;32mif\u001b[0m \u001b[0;32mnot\u001b[0m \u001b[0mis_scalar\u001b[0m\u001b[0;34m(\u001b[0m\u001b[0mresult\u001b[0m\u001b[0;34m)\u001b[0m\u001b[0;34m:\u001b[0m\u001b[0;34m\u001b[0m\u001b[0m\n",
      "\u001b[0;32m/Users/ericazhang/homebrew/lib/python2.7/site-packages/pandas/core/indexes/base.pyc\u001b[0m in \u001b[0;36mget_value\u001b[0;34m(self, series, key)\u001b[0m\n\u001b[1;32m   2558\u001b[0m         \u001b[0;32mtry\u001b[0m\u001b[0;34m:\u001b[0m\u001b[0;34m\u001b[0m\u001b[0m\n\u001b[1;32m   2559\u001b[0m             return self._engine.get_value(s, k,\n\u001b[0;32m-> 2560\u001b[0;31m                                           tz=getattr(series.dtype, 'tz', None))\n\u001b[0m\u001b[1;32m   2561\u001b[0m         \u001b[0;32mexcept\u001b[0m \u001b[0mKeyError\u001b[0m \u001b[0;32mas\u001b[0m \u001b[0me1\u001b[0m\u001b[0;34m:\u001b[0m\u001b[0;34m\u001b[0m\u001b[0m\n\u001b[1;32m   2562\u001b[0m             \u001b[0;32mif\u001b[0m \u001b[0mlen\u001b[0m\u001b[0;34m(\u001b[0m\u001b[0mself\u001b[0m\u001b[0;34m)\u001b[0m \u001b[0;34m>\u001b[0m \u001b[0;36m0\u001b[0m \u001b[0;32mand\u001b[0m \u001b[0mself\u001b[0m\u001b[0;34m.\u001b[0m\u001b[0minferred_type\u001b[0m \u001b[0;32min\u001b[0m \u001b[0;34m[\u001b[0m\u001b[0;34m'integer'\u001b[0m\u001b[0;34m,\u001b[0m \u001b[0;34m'boolean'\u001b[0m\u001b[0;34m]\u001b[0m\u001b[0;34m:\u001b[0m\u001b[0;34m\u001b[0m\u001b[0m\n",
      "\u001b[0;32mpandas/_libs/index.pyx\u001b[0m in \u001b[0;36mpandas._libs.index.IndexEngine.get_value\u001b[0;34m()\u001b[0m\n",
      "\u001b[0;32mpandas/_libs/index.pyx\u001b[0m in \u001b[0;36mpandas._libs.index.IndexEngine.get_value\u001b[0;34m()\u001b[0m\n",
      "\u001b[0;32mpandas/_libs/index.pyx\u001b[0m in \u001b[0;36mpandas._libs.index.IndexEngine.get_loc\u001b[0;34m()\u001b[0m\n",
      "\u001b[0;32mpandas/_libs/hashtable_class_helper.pxi\u001b[0m in \u001b[0;36mpandas._libs.hashtable.Int64HashTable.get_item\u001b[0;34m()\u001b[0m\n",
      "\u001b[0;32mpandas/_libs/hashtable_class_helper.pxi\u001b[0m in \u001b[0;36mpandas._libs.hashtable.Int64HashTable.get_item\u001b[0;34m()\u001b[0m\n",
      "\u001b[0;31mKeyError\u001b[0m: 0"
     ]
    }
   ],
   "source": [
    "plt.plot(markers, (low_ab - markers)*1000, 'r+', label = \"x = 2.099 mm\")\n",
    "plt.plot(markers, (low_dc - markers)*1000, 'b+', label = \"x = -27.899 mm\")\n",
    "plt.plot(markers, (up_ab - markers)*1000, 'g+', label = \"x = 27.899 mm\")\n",
    "for i in [-422, -211, 0, 211, 422]:\n",
    "    plt.axvline(x = i, ymin = 0, ymax = 1, c = 'k', linewidth = .4)\n",
    "plt.title(\"$\\Delta$ y\")\n",
    "plt.xlabel(\"y [mm]\")\n",
    "plt.ylabel(\"$\\Delta$ y [$\\mu$m]\")\n",
    "plt.legend(bbox_to_anchor=(1, 1))\n",
    "plt.show()"
   ]
  },
  {
   "cell_type": "code",
   "execution_count": 40,
   "metadata": {},
   "outputs": [
    {
     "data": {
      "text/plain": [
       "True"
      ]
     },
     "execution_count": 40,
     "metadata": {},
     "output_type": "execute_result"
    }
   ],
   "source": [
    "\"\"\"\n",
    "def low_mark(module, tolerance):\n",
    "    number = module - 1\n",
    "    mod_num = hs_low[number]\n",
    "    ad = mod_num[abs(mod_num[Y] - Markers[number][0]) < tolerance]\n",
    "    a = ad[ad[X] > 0][Y]\n",
    "    d = ad[ad[X] < 0][Y]\n",
    "    bc = mod_num[abs(mod_num[Y] - Markers[number][1]) < tolerance]\n",
    "    b = bc[bc[X] > 0][Y]\n",
    "    c = bc[bc[X] < 0][Y]\n",
    "    markers = [a, d, b, c]\n",
    "    return prepare(markers)\n",
    "\n",
    "def up_mark(module, tolerance):\n",
    "    number = module - 1\n",
    "    mod_num = hs_up[number]\n",
    "    a = mod_num[abs(mod_num[Y] - Markers[number][0]) < tolerance][Y]\n",
    "    b = mod_num[abs(mod_num[Y] - Markers[number][1]) < tolerance][Y]\n",
    "    markers = [a, b]\n",
    "    return prepare(markers)\n",
    "\"\"\""
   ]
  },
  {
   "cell_type": "code",
   "execution_count": null,
   "metadata": {},
   "outputs": [],
   "source": []
  }
 ],
 "metadata": {
  "kernelspec": {
   "display_name": "Python 2",
   "language": "python",
   "name": "python2"
  },
  "language_info": {
   "codemirror_mode": {
    "name": "ipython",
    "version": 2
   },
   "file_extension": ".py",
   "mimetype": "text/x-python",
   "name": "python",
   "nbconvert_exporter": "python",
   "pygments_lexer": "ipython2",
   "version": "2.7.14"
  }
 },
 "nbformat": 4,
 "nbformat_minor": 2
}
