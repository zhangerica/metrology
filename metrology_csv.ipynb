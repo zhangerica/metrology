{
 "cells": [
  {
   "cell_type": "code",
   "execution_count": 114,
   "metadata": {},
   "outputs": [],
   "source": [
    "import glob\n",
    "import pandas as pd\n",
    "import csv\n",
    "import os\n",
    "import numpy as np\n",
    "import matplotlib.pyplot as plt"
   ]
  },
  {
   "cell_type": "code",
   "execution_count": 115,
   "metadata": {},
   "outputs": [],
   "source": [
    "path = os.path.abspath(\"STAVE_MARKERPOS_2018_2_12_B-ML-Stave-0_B-HS-R-0_ALC-0312-00_026_B-HS-L-0_ALC-0312-00_120.csv\")"
   ]
  },
  {
   "cell_type": "code",
   "execution_count": 116,
   "metadata": {},
   "outputs": [],
   "source": [
    "path1 = glob.glob(path)[0]"
   ]
  },
  {
   "cell_type": "code",
   "execution_count": 117,
   "metadata": {},
   "outputs": [],
   "source": [
    "data = pd.read_csv(open(path1), header = None, usecols = [2, 4, 5, 6])"
   ]
  },
  {
   "cell_type": "code",
   "execution_count": 118,
   "metadata": {},
   "outputs": [],
   "source": [
    "label = pd.DataFrame.get(data, 2)\n",
    "x = pd.DataFrame.get(data, 4)\n",
    "y = pd.DataFrame.get(data, 5)\n",
    "z = pd.DataFrame.get(data, 6)"
   ]
  },
  {
   "cell_type": "code",
   "execution_count": 119,
   "metadata": {},
   "outputs": [],
   "source": [
    "slices = data.index[label == u'MarkerCenter '].tolist()\n",
    "one, two, three, four = slices[0], slices[1], slices[2], slices[3]\n",
    "five, six, seven, eight = slices[4], slices[5], slices[6], slices[7]"
   ]
  },
  {
   "cell_type": "code",
   "execution_count": 120,
   "metadata": {},
   "outputs": [],
   "source": [
    "mod1, mod2, mod3, mod4 = data[one+1:two-4], data[two+1:three-4], data[three+1:four-4], data[four+1:five-4]\n",
    "mod5, mod6, mod7, mod8 = data[five+1:six-4], data[six+1:seven-4], data[seven+1:eight-4], data[eight+1:-4]\n",
    "low = pd.concat([mod1, mod2, mod3, mod4])[[4, 5, 6]]\n",
    "up = pd.concat([mod5, mod6, mod7, mod8])[[4, 5, 6]]"
   ]
  },
  {
   "cell_type": "code",
   "execution_count": 121,
   "metadata": {},
   "outputs": [],
   "source": [
    "# z residuals\n",
    "low_dz_pos = (low[low[4] > 0][6] - 13.3)*1000\n",
    "low_dz_pos_y = low[low[4] > 0][5]\n",
    "low_dz_neg = (low[low[4] < 0][6] - 13.3)*1000\n",
    "low_dz_neg_y = low[low[4] < 0][5]\n",
    "up_dz = (up[6] - 9.7)*1000\n",
    "up_dz_y = up[5]"
   ]
  },
  {
   "cell_type": "code",
   "execution_count": 122,
   "metadata": {},
   "outputs": [
    {
     "data": {
      "image/png": "[encoded data removed]",
      "text/plain": [
       "<matplotlib.figure.Figure at 0x10ed24ed0>"
      ]
     },
     "metadata": {},
     "output_type": "display_data"
    }
   ],
   "source": [
    "# z plots\n",
    "dz, axes = plt.subplots(nrows=1, ncols=2, figsize = (15, 5))\n",
    "zlow, zup = axes.flatten()\n",
    "\n",
    "zlow.plot(low_dz_pos_y, low_dz_pos, 'r+', label = 'x = 2 mm')\n",
    "zlow.plot(low_dz_neg_y, low_dz_neg, 'b+', label = 'x = -28 mm')\n",
    "zlow.set(xlabel=\"y [mm]\")\n",
    "zlow.set(ylabel = \"$\\Delta$ z [$\\mu$m]\")\n",
    "zlow.set_title('Lower/Left')\n",
    "zlow.set_ylim([-150, 250])\n",
    "for i in [-422, -211, 0, 211, 422]:\n",
    "    zlow.axvline(x = i, ymin = .1, ymax = .7, c = 'k', linewidth = .4)\n",
    "zlow.legend(loc = 1)\n",
    "\n",
    "zup.plot(up_dz_y, up_dz, 'g+', label = 'x = 28 mm')\n",
    "zup.set(xlabel=\"y [mm]\")\n",
    "zup.set(ylabel = \"$\\Delta$ z [$\\mu$m]\")\n",
    "zup.set_title('Upper/Right')\n",
    "zup.set_ylim([-150, 250])\n",
    "for i in [-422, -211, 0, 211, 422]:\n",
    "    zup.axvline(x = i, ymin = .1, ymax = .7, c = 'k', linewidth = .4)\n",
    "zup.legend(loc = 1)\n",
    "    \n",
    "plt.show()"
   ]
  },
  {
   "cell_type": "code",
   "execution_count": 123,
   "metadata": {},
   "outputs": [],
   "source": [
    "# x residuals\n",
    "low_dx_pos = (low[low[4] > 0][4] - 2.099)*1000\n",
    "low_dx_pos_y = low[low[4] > 0][5]\n",
    "low_dx_neg = (low[low[4] < 0][4] + 27.899)*1000\n",
    "low_dx_neg_y = low[low[4] < 0][5]\n",
    "up_dx = (up[4] - 27.899)*1000\n",
    "up_dx_y = (up[5])"
   ]
  },
  {
   "cell_type": "code",
   "execution_count": 124,
   "metadata": {},
   "outputs": [
    {
     "data": {
      "image/png": "[encoded data removed]",
      "text/plain": [
       "<matplotlib.figure.Figure at 0x10e3d9210>"
      ]
     },
     "metadata": {},
     "output_type": "display_data"
    }
   ],
   "source": [
    "# x plots\n",
    "plt.plot(low_dx_pos_y, low_dx_pos, 'r+', label = 'x = 2.099 mm')\n",
    "plt.plot(low_dx_neg_y, low_dx_neg, 'b+', label = 'x = -27.899 mm')\n",
    "plt.plot(up_dx_y, up_dx, 'g+', label = 'x = 27.899 mm')\n",
    "plt.xlabel(\"y [mm]\")\n",
    "plt.ylabel(\"$\\Delta$ x [$\\mu$m]\")\n",
    "plt.ylim([-400, 250])\n",
    "for i in [-422, -211, 0, 211, 422]:\n",
    "    plt.axvline(x = i, ymin = .1, ymax = .7, c = 'k', linewidth = .4)\n",
    "plt.legend(loc = 1)\n",
    "plt.title(\"$\\Delta$ x\")\n",
    "    \n",
    "plt.show()"
   ]
  },
  {
   "cell_type": "code",
   "execution_count": 125,
   "metadata": {},
   "outputs": [],
   "source": [
    "# y residuals\n",
    "m1 = [-421.925, -211.375] # markers [a, b] for module 1\n",
    "m2 = [-210.825, -0.275]\n",
    "m3 = [0.275, 210.825]\n",
    "m4 = [211.375, 421.925]\n",
    "\n",
    "m1a, m1b = m1[0], m1[1]\n",
    "m2a, m2b = m2[0], m2[1]\n",
    "m3a, m3b = m3[0], m3[1]\n",
    "m4a, m4b = m4[0], m4[1]\n",
    "\n",
    "markers = np.concatenate([m1, m2, m3, m4])"
   ]
  },
  {
   "cell_type": "code",
   "execution_count": 126,
   "metadata": {},
   "outputs": [],
   "source": [
    "# low AD markers\n",
    "ones = mod1[abs(mod1[5]-m1a)<0.4]\n",
    "ones_a = ones[ones[4]>0][5] # A marker\n",
    "ones_d = ones[ones[4]<0][5] # D marker\n",
    "\n",
    "twos = mod2[abs(mod2[5]-m2a)<0.4]\n",
    "twos_a = twos[twos[4]>0][5]\n",
    "twos_d = twos[twos[4]<0][5]\n",
    "\n",
    "threes = mod3[abs(mod3[5]-m3a)<0.4]\n",
    "threes_a = threes[threes[4]>0][5]\n",
    "threes_d = threes[threes[4]<0][5]\n",
    "\n",
    "fours = mod4[abs(mod4[5]-m4a)<0.4]\n",
    "fours_a = fours[fours[4]>0][5]\n",
    "fours_d = fours[fours[4]<0][5]\n",
    "\n",
    "# low BC markers\n",
    "Ones = mod1[abs(mod1[5]-m1b)<0.4]\n",
    "Ones_b = Ones[Ones[4]>0][5] # B marker\n",
    "Ones_c = Ones[Ones[4]<0][5] # C marker\n",
    "\n",
    "Twos = mod2[abs(mod2[5]-m2b)<0.4]\n",
    "Twos_b = Twos[Twos[4]>0][5]\n",
    "Twos_c = Twos[Twos[4]<0][5]\n",
    "\n",
    "Threes = mod3[abs(mod3[5]-m3b)<0.4]\n",
    "Threes_b = Threes[Threes[4]>0][5]\n",
    "Threes_c = Threes[Threes[4]<0][5]\n",
    "\n",
    "Fours = mod4[abs(mod4[5]-m4b)<0.4]\n",
    "Fours_b = Fours[Fours[4]>0][5]\n",
    "Fours_c = Fours[Fours[4]<0][5]\n",
    "\n",
    "# up AB markers\n",
    "five_a = mod5[abs(mod5[5]-m1a)<0.8][5]\n",
    "five_b = mod5[abs(mod5[5]-m1b)<0.8][5]\n",
    "\n",
    "six_a = mod6[abs(mod6[5]-m2a)<0.8][5]\n",
    "six_b = mod6[abs(mod6[5]-m2b)<0.8][5]\n",
    "\n",
    "seven_a = mod7[abs(mod7[5]-m3a)<0.8][5]\n",
    "seven_b = mod7[abs(mod7[5]-m3b)<0.8][5]\n",
    "\n",
    "eight_a = mod8[abs(mod8[5]-m4a)<0.8][5]\n",
    "eight_b = mod8[abs(mod8[5]-m4b)<0.8][5]"
   ]
  },
  {
   "cell_type": "code",
   "execution_count": 127,
   "metadata": {},
   "outputs": [],
   "source": [
    "low_ab = np.array([float(i) for i in [ones_a, Ones_b, twos_a, Twos_b, threes_a, Threes_b, fours_a, Fours_b]])\n",
    "low_dc = np.array([float(i) for i in [ones_d, Ones_c, twos_d, Twos_c, threes_d, Threes_c, fours_d, Fours_c]])\n",
    "up_ab = np.array([float(i) for i in [five_a, five_b, six_a, six_b, seven_a, seven_b, eight_a, eight_b]])"
   ]
  },
  {
   "cell_type": "code",
   "execution_count": 128,
   "metadata": {},
   "outputs": [
    {
     "data": {
      "image/png": "[encoded data removed]",
      "text/plain": [
       "<matplotlib.figure.Figure at 0x10f0b6ad0>"
      ]
     },
     "metadata": {},
     "output_type": "display_data"
    }
   ],
   "source": [
    "plt.plot(markers, (low_ab - markers)*1000, 'r+', label = \"x = 2.099 mm\")\n",
    "plt.plot(markers, (low_dc - markers)*1000, 'b+', label = \"x = -27.899 mm\")\n",
    "plt.plot(markers, (up_ab - markers)*1000, 'g+', label = \"x = 27.899 mm\")\n",
    "for i in [-422, -211, 0, 211, 422]:\n",
    "    plt.axvline(x = i, ymin = 0, ymax = 1, c = 'k', linewidth = .4)\n",
    "plt.title(\"$\\Delta$ y\")\n",
    "plt.xlabel(\"y [mm]\")\n",
    "plt.ylabel(\"$\\Delta$ y [$\\mu$m]\")\n",
    "plt.legend(bbox_to_anchor=(1, 1))\n",
    "plt.show()"
   ]
  }
 ],
 "metadata": {
  "kernelspec": {
   "display_name": "Python 2",
   "language": "python",
   "name": "python2"
  },
  "language_info": {
   "codemirror_mode": {
    "name": "ipython",
    "version": 2
   },
   "file_extension": ".py",
   "mimetype": "text/x-python",
   "name": "python",
   "nbconvert_exporter": "python",
   "pygments_lexer": "ipython2",
   "version": "2.7.14"
  }
 },
 "nbformat": 4,
 "nbformat_minor": 2
}
